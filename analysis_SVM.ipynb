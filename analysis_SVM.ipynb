{
 "cells": [
  {
   "cell_type": "code",
   "execution_count": 1,
   "id": "incomplete-comparative",
   "metadata": {},
   "outputs": [],
   "source": [
    "import pandas as pd # deal with data and one-hot encoding\n",
    "import numpy as np # data manipulation\n",
    "import matplotlib.pyplot as plt #graph\n",
    "import matplotlib.colors as colors\n",
    "from sklearn.utils import resample # downsample the dataset\n",
    "from sklearn.model_selection import train_test_split \n",
    "from sklearn.preprocessing import StandardScaler,scale # scale and center the data\n",
    "from sklearn.svm import SVC # model\n",
    "from sklearn.model_selection import GridSearchCV # cross validation\n",
    "from sklearn.metrics import confusion_matrix\n",
    "from sklearn.metrics import plot_confusion_matrix\n",
    "from sklearn.decomposition import PCA # to perform PCA to plot the data"
   ]
  },
  {
   "cell_type": "code",
   "execution_count": 14,
   "id": "hollywood-volunteer",
   "metadata": {},
   "outputs": [],
   "source": [
    "df = pd.read_csv(\"weatherAUS.csv\",header=0)\n",
    "df = df.dropna().reset_index(drop=True)"
   ]
  },
  {
   "cell_type": "code",
   "execution_count": 15,
   "id": "expressed-disaster",
   "metadata": {},
   "outputs": [
    {
     "name": "stdout",
     "output_type": "stream",
     "text": [
      "(56420, 23)\n"
     ]
    },
    {
     "data": {
      "text/plain": [
       "Index(['Date', 'Location', 'MinTemp', 'MaxTemp', 'Rainfall', 'Evaporation',\n",
       "       'Sunshine', 'WindGustDir', 'WindGustSpeed', 'WindDir9am', 'WindDir3pm',\n",
       "       'WindSpeed9am', 'WindSpeed3pm', 'Humidity9am', 'Humidity3pm',\n",
       "       'Pressure9am', 'Pressure3pm', 'Cloud9am', 'Cloud3pm', 'Temp9am',\n",
       "       'Temp3pm', 'RainToday', 'RainTomorrow'],\n",
       "      dtype='object')"
      ]
     },
     "execution_count": 15,
     "metadata": {},
     "output_type": "execute_result"
    }
   ],
   "source": [
    "print(df.shape)\n",
    "df.columns"
   ]
  },
  {
   "cell_type": "code",
   "execution_count": 16,
   "id": "broad-paint",
   "metadata": {},
   "outputs": [
    {
     "data": {
      "text/html": [
       "<div>\n",
       "<style scoped>\n",
       "    .dataframe tbody tr th:only-of-type {\n",
       "        vertical-align: middle;\n",
       "    }\n",
       "\n",
       "    .dataframe tbody tr th {\n",
       "        vertical-align: top;\n",
       "    }\n",
       "\n",
       "    .dataframe thead th {\n",
       "        text-align: right;\n",
       "    }\n",
       "</style>\n",
       "<table border=\"1\" class=\"dataframe\">\n",
       "  <thead>\n",
       "    <tr style=\"text-align: right;\">\n",
       "      <th></th>\n",
       "      <th>MinTemp</th>\n",
       "      <th>MaxTemp</th>\n",
       "      <th>Rainfall</th>\n",
       "      <th>Evaporation</th>\n",
       "      <th>Sunshine</th>\n",
       "      <th>WindGustDir</th>\n",
       "      <th>WindGustSpeed</th>\n",
       "      <th>WindDir9am</th>\n",
       "      <th>WindDir3pm</th>\n",
       "      <th>WindSpeed9am</th>\n",
       "      <th>...</th>\n",
       "      <th>Humidity9am</th>\n",
       "      <th>Humidity3pm</th>\n",
       "      <th>Pressure9am</th>\n",
       "      <th>Pressure3pm</th>\n",
       "      <th>Cloud9am</th>\n",
       "      <th>Cloud3pm</th>\n",
       "      <th>Temp9am</th>\n",
       "      <th>Temp3pm</th>\n",
       "      <th>RainToday</th>\n",
       "      <th>RainTomorrow</th>\n",
       "    </tr>\n",
       "  </thead>\n",
       "  <tbody>\n",
       "    <tr>\n",
       "      <th>0</th>\n",
       "      <td>17.9</td>\n",
       "      <td>35.2</td>\n",
       "      <td>0.0</td>\n",
       "      <td>12.0</td>\n",
       "      <td>12.3</td>\n",
       "      <td>S</td>\n",
       "      <td>48.0</td>\n",
       "      <td>E</td>\n",
       "      <td>SW</td>\n",
       "      <td>6.0</td>\n",
       "      <td>...</td>\n",
       "      <td>20.0</td>\n",
       "      <td>13.0</td>\n",
       "      <td>1006.3</td>\n",
       "      <td>1004.4</td>\n",
       "      <td>2.0</td>\n",
       "      <td>5.0</td>\n",
       "      <td>26.6</td>\n",
       "      <td>33.4</td>\n",
       "      <td>No</td>\n",
       "      <td>No</td>\n",
       "    </tr>\n",
       "    <tr>\n",
       "      <th>1</th>\n",
       "      <td>18.4</td>\n",
       "      <td>28.9</td>\n",
       "      <td>0.0</td>\n",
       "      <td>14.8</td>\n",
       "      <td>13.0</td>\n",
       "      <td>S</td>\n",
       "      <td>37.0</td>\n",
       "      <td>S</td>\n",
       "      <td>S</td>\n",
       "      <td>19.0</td>\n",
       "      <td>...</td>\n",
       "      <td>30.0</td>\n",
       "      <td>8.0</td>\n",
       "      <td>1012.9</td>\n",
       "      <td>1012.1</td>\n",
       "      <td>1.0</td>\n",
       "      <td>1.0</td>\n",
       "      <td>20.3</td>\n",
       "      <td>27.0</td>\n",
       "      <td>No</td>\n",
       "      <td>No</td>\n",
       "    </tr>\n",
       "    <tr>\n",
       "      <th>2</th>\n",
       "      <td>19.4</td>\n",
       "      <td>37.6</td>\n",
       "      <td>0.0</td>\n",
       "      <td>10.8</td>\n",
       "      <td>10.6</td>\n",
       "      <td>N</td>\n",
       "      <td>46.0</td>\n",
       "      <td>N</td>\n",
       "      <td>N</td>\n",
       "      <td>30.0</td>\n",
       "      <td>...</td>\n",
       "      <td>42.0</td>\n",
       "      <td>22.0</td>\n",
       "      <td>1012.3</td>\n",
       "      <td>1009.2</td>\n",
       "      <td>1.0</td>\n",
       "      <td>6.0</td>\n",
       "      <td>28.7</td>\n",
       "      <td>34.9</td>\n",
       "      <td>No</td>\n",
       "      <td>No</td>\n",
       "    </tr>\n",
       "    <tr>\n",
       "      <th>3</th>\n",
       "      <td>21.9</td>\n",
       "      <td>38.4</td>\n",
       "      <td>0.0</td>\n",
       "      <td>11.4</td>\n",
       "      <td>12.2</td>\n",
       "      <td>W</td>\n",
       "      <td>31.0</td>\n",
       "      <td>W</td>\n",
       "      <td>W</td>\n",
       "      <td>6.0</td>\n",
       "      <td>...</td>\n",
       "      <td>37.0</td>\n",
       "      <td>22.0</td>\n",
       "      <td>1012.7</td>\n",
       "      <td>1009.1</td>\n",
       "      <td>1.0</td>\n",
       "      <td>5.0</td>\n",
       "      <td>29.1</td>\n",
       "      <td>35.6</td>\n",
       "      <td>No</td>\n",
       "      <td>No</td>\n",
       "    </tr>\n",
       "    <tr>\n",
       "      <th>4</th>\n",
       "      <td>24.2</td>\n",
       "      <td>41.0</td>\n",
       "      <td>0.0</td>\n",
       "      <td>11.2</td>\n",
       "      <td>8.4</td>\n",
       "      <td>W</td>\n",
       "      <td>35.0</td>\n",
       "      <td>NW</td>\n",
       "      <td>W</td>\n",
       "      <td>17.0</td>\n",
       "      <td>...</td>\n",
       "      <td>19.0</td>\n",
       "      <td>15.0</td>\n",
       "      <td>1010.7</td>\n",
       "      <td>1007.4</td>\n",
       "      <td>1.0</td>\n",
       "      <td>6.0</td>\n",
       "      <td>33.6</td>\n",
       "      <td>37.6</td>\n",
       "      <td>No</td>\n",
       "      <td>No</td>\n",
       "    </tr>\n",
       "  </tbody>\n",
       "</table>\n",
       "<p>5 rows × 21 columns</p>\n",
       "</div>"
      ],
      "text/plain": [
       "   MinTemp  MaxTemp  Rainfall  Evaporation  Sunshine WindGustDir  \\\n",
       "0     17.9     35.2       0.0         12.0      12.3           S   \n",
       "1     18.4     28.9       0.0         14.8      13.0           S   \n",
       "2     19.4     37.6       0.0         10.8      10.6           N   \n",
       "3     21.9     38.4       0.0         11.4      12.2           W   \n",
       "4     24.2     41.0       0.0         11.2       8.4           W   \n",
       "\n",
       "   WindGustSpeed WindDir9am WindDir3pm  WindSpeed9am  ...  Humidity9am  \\\n",
       "0           48.0          E         SW           6.0  ...         20.0   \n",
       "1           37.0          S          S          19.0  ...         30.0   \n",
       "2           46.0          N          N          30.0  ...         42.0   \n",
       "3           31.0          W          W           6.0  ...         37.0   \n",
       "4           35.0         NW          W          17.0  ...         19.0   \n",
       "\n",
       "   Humidity3pm  Pressure9am  Pressure3pm  Cloud9am  Cloud3pm  Temp9am  \\\n",
       "0         13.0       1006.3       1004.4       2.0       5.0     26.6   \n",
       "1          8.0       1012.9       1012.1       1.0       1.0     20.3   \n",
       "2         22.0       1012.3       1009.2       1.0       6.0     28.7   \n",
       "3         22.0       1012.7       1009.1       1.0       5.0     29.1   \n",
       "4         15.0       1010.7       1007.4       1.0       6.0     33.6   \n",
       "\n",
       "   Temp3pm  RainToday RainTomorrow  \n",
       "0     33.4         No           No  \n",
       "1     27.0         No           No  \n",
       "2     34.9         No           No  \n",
       "3     35.6         No           No  \n",
       "4     37.6         No           No  \n",
       "\n",
       "[5 rows x 21 columns]"
      ]
     },
     "execution_count": 16,
     "metadata": {},
     "output_type": "execute_result"
    }
   ],
   "source": [
    "df.drop(['Date','Location'],axis=1, inplace=True)\n",
    "\n",
    "cat_cols = ['WindDir9am', 'WindDir3pm', 'WindGustDir']\n",
    "for col in cat_cols:\n",
    "    df.loc[(df[col] == 'SSW')|(df[col] == 'SSE'), col] = 'S'\n",
    "    df.loc[(df[col] == 'NNE')|(df[col] == 'NNW'), col] = 'N'\n",
    "    df.loc[(df[col] == 'WSW')|(df[col] == 'WNW'), col] = 'W'\n",
    "    df.loc[(df[col] == 'ENE')|(df[col] == 'ESE'), col] = 'E'\n",
    "    \n",
    "df.head()"
   ]
  },
  {
   "cell_type": "code",
   "execution_count": 19,
   "id": "dietary-diabetes",
   "metadata": {},
   "outputs": [
    {
     "name": "stdout",
     "output_type": "stream",
     "text": [
      "<class 'pandas.core.frame.DataFrame'>\n",
      "RangeIndex: 56420 entries, 0 to 56419\n",
      "Data columns (total 21 columns):\n",
      " #   Column         Non-Null Count  Dtype  \n",
      "---  ------         --------------  -----  \n",
      " 0   MinTemp        56420 non-null  float64\n",
      " 1   MaxTemp        56420 non-null  float64\n",
      " 2   Rainfall       56420 non-null  float64\n",
      " 3   Evaporation    56420 non-null  float64\n",
      " 4   Sunshine       56420 non-null  float64\n",
      " 5   WindGustDir    56420 non-null  object \n",
      " 6   WindGustSpeed  56420 non-null  float64\n",
      " 7   WindDir9am     56420 non-null  object \n",
      " 8   WindDir3pm     56420 non-null  object \n",
      " 9   WindSpeed9am   56420 non-null  float64\n",
      " 10  WindSpeed3pm   56420 non-null  float64\n",
      " 11  Humidity9am    56420 non-null  float64\n",
      " 12  Humidity3pm    56420 non-null  float64\n",
      " 13  Pressure9am    56420 non-null  float64\n",
      " 14  Pressure3pm    56420 non-null  float64\n",
      " 15  Cloud9am       56420 non-null  float64\n",
      " 16  Cloud3pm       56420 non-null  float64\n",
      " 17  Temp9am        56420 non-null  float64\n",
      " 18  Temp3pm        56420 non-null  float64\n",
      " 19  RainToday      56420 non-null  object \n",
      " 20  RainTomorrow   56420 non-null  object \n",
      "dtypes: float64(16), object(5)\n",
      "memory usage: 9.0+ MB\n"
     ]
    }
   ],
   "source": [
    "df.info()"
   ]
  },
  {
   "cell_type": "code",
   "execution_count": 21,
   "id": "interesting-belle",
   "metadata": {},
   "outputs": [],
   "source": [
    "from sklearn.preprocessing import LabelEncoder\n",
    "label_encoder = LabelEncoder()\n",
    "# Check the labels\n",
    "label_encoder.fit(df['RainTomorrow'])\n",
    "label_encoder.classes_ \n",
    "\n",
    "# transform\n",
    "df['RainTomorrow'] = label_encoder.transform(df.RainTomorrow)"
   ]
  },
  {
   "cell_type": "code",
   "execution_count": 20,
   "id": "desirable-teens",
   "metadata": {},
   "outputs": [],
   "source": [
    "## Downsample the data (Because of gridsearchCV)"
   ]
  },
  {
   "cell_type": "code",
   "execution_count": 23,
   "id": "marked-calendar",
   "metadata": {},
   "outputs": [],
   "source": [
    "df_no = df[df.RainTomorrow == 0]\n",
    "df_yes = df[df.RainTomorrow == 1]"
   ]
  },
  {
   "cell_type": "code",
   "execution_count": 24,
   "id": "incorrect-yemen",
   "metadata": {},
   "outputs": [
    {
     "data": {
      "text/plain": [
       "1000"
      ]
     },
     "execution_count": 24,
     "metadata": {},
     "output_type": "execute_result"
    }
   ],
   "source": [
    "## NOTE: we have 1000 for both because he wants to have more balanced outcomes so the model \n",
    "## would not only detect non_default.\n",
    "\n",
    "df_no_sample = resample(df_no, replace=False, n_samples=1000,random_state=42)\n",
    "len(df_no_sample)"
   ]
  },
  {
   "cell_type": "code",
   "execution_count": 25,
   "id": "preceding-prospect",
   "metadata": {},
   "outputs": [
    {
     "data": {
      "text/plain": [
       "1000"
      ]
     },
     "execution_count": 25,
     "metadata": {},
     "output_type": "execute_result"
    }
   ],
   "source": [
    "df_yes_sample = resample(df_yes, replace=False, n_samples=1000,random_state=42)\n",
    "len(df_yes_sample)"
   ]
  },
  {
   "cell_type": "code",
   "execution_count": 26,
   "id": "incorporate-groove",
   "metadata": {},
   "outputs": [
    {
     "data": {
      "text/plain": [
       "2000"
      ]
     },
     "execution_count": 26,
     "metadata": {},
     "output_type": "execute_result"
    }
   ],
   "source": [
    "## Concate together\n",
    "df_sample = pd.concat([df_no_sample, df_yes_sample])\n",
    "len(df_sample)"
   ]
  },
  {
   "cell_type": "code",
   "execution_count": null,
   "id": "compound-jefferson",
   "metadata": {},
   "outputs": [],
   "source": []
  },
  {
   "cell_type": "code",
   "execution_count": 27,
   "id": "living-pathology",
   "metadata": {},
   "outputs": [
    {
     "data": {
      "text/html": [
       "<div>\n",
       "<style scoped>\n",
       "    .dataframe tbody tr th:only-of-type {\n",
       "        vertical-align: middle;\n",
       "    }\n",
       "\n",
       "    .dataframe tbody tr th {\n",
       "        vertical-align: top;\n",
       "    }\n",
       "\n",
       "    .dataframe thead th {\n",
       "        text-align: right;\n",
       "    }\n",
       "</style>\n",
       "<table border=\"1\" class=\"dataframe\">\n",
       "  <thead>\n",
       "    <tr style=\"text-align: right;\">\n",
       "      <th></th>\n",
       "      <th>MinTemp</th>\n",
       "      <th>MaxTemp</th>\n",
       "      <th>Rainfall</th>\n",
       "      <th>Evaporation</th>\n",
       "      <th>Sunshine</th>\n",
       "      <th>WindGustDir</th>\n",
       "      <th>WindGustSpeed</th>\n",
       "      <th>WindDir9am</th>\n",
       "      <th>WindDir3pm</th>\n",
       "      <th>WindSpeed9am</th>\n",
       "      <th>WindSpeed3pm</th>\n",
       "      <th>Humidity9am</th>\n",
       "      <th>Humidity3pm</th>\n",
       "      <th>Pressure9am</th>\n",
       "      <th>Pressure3pm</th>\n",
       "      <th>Cloud9am</th>\n",
       "      <th>Cloud3pm</th>\n",
       "      <th>Temp9am</th>\n",
       "      <th>Temp3pm</th>\n",
       "      <th>RainToday</th>\n",
       "    </tr>\n",
       "  </thead>\n",
       "  <tbody>\n",
       "    <tr>\n",
       "      <th>29970</th>\n",
       "      <td>8.1</td>\n",
       "      <td>22.3</td>\n",
       "      <td>0.0</td>\n",
       "      <td>3.8</td>\n",
       "      <td>10.6</td>\n",
       "      <td>E</td>\n",
       "      <td>17.0</td>\n",
       "      <td>SW</td>\n",
       "      <td>E</td>\n",
       "      <td>7.0</td>\n",
       "      <td>9.0</td>\n",
       "      <td>46.0</td>\n",
       "      <td>42.0</td>\n",
       "      <td>1023.0</td>\n",
       "      <td>1019.2</td>\n",
       "      <td>0.0</td>\n",
       "      <td>1.0</td>\n",
       "      <td>15.2</td>\n",
       "      <td>21.5</td>\n",
       "      <td>No</td>\n",
       "    </tr>\n",
       "    <tr>\n",
       "      <th>41863</th>\n",
       "      <td>20.7</td>\n",
       "      <td>37.6</td>\n",
       "      <td>0.0</td>\n",
       "      <td>15.6</td>\n",
       "      <td>13.5</td>\n",
       "      <td>SW</td>\n",
       "      <td>50.0</td>\n",
       "      <td>N</td>\n",
       "      <td>W</td>\n",
       "      <td>13.0</td>\n",
       "      <td>31.0</td>\n",
       "      <td>18.0</td>\n",
       "      <td>7.0</td>\n",
       "      <td>1012.1</td>\n",
       "      <td>1009.2</td>\n",
       "      <td>0.0</td>\n",
       "      <td>1.0</td>\n",
       "      <td>30.7</td>\n",
       "      <td>36.8</td>\n",
       "      <td>No</td>\n",
       "    </tr>\n",
       "    <tr>\n",
       "      <th>18879</th>\n",
       "      <td>11.8</td>\n",
       "      <td>21.7</td>\n",
       "      <td>0.2</td>\n",
       "      <td>3.8</td>\n",
       "      <td>12.0</td>\n",
       "      <td>S</td>\n",
       "      <td>44.0</td>\n",
       "      <td>S</td>\n",
       "      <td>S</td>\n",
       "      <td>13.0</td>\n",
       "      <td>26.0</td>\n",
       "      <td>68.0</td>\n",
       "      <td>42.0</td>\n",
       "      <td>1014.8</td>\n",
       "      <td>1012.8</td>\n",
       "      <td>7.0</td>\n",
       "      <td>1.0</td>\n",
       "      <td>15.0</td>\n",
       "      <td>21.2</td>\n",
       "      <td>No</td>\n",
       "    </tr>\n",
       "    <tr>\n",
       "      <th>47968</th>\n",
       "      <td>14.5</td>\n",
       "      <td>28.2</td>\n",
       "      <td>0.0</td>\n",
       "      <td>9.6</td>\n",
       "      <td>13.9</td>\n",
       "      <td>S</td>\n",
       "      <td>30.0</td>\n",
       "      <td>S</td>\n",
       "      <td>SW</td>\n",
       "      <td>11.0</td>\n",
       "      <td>19.0</td>\n",
       "      <td>58.0</td>\n",
       "      <td>46.0</td>\n",
       "      <td>1011.4</td>\n",
       "      <td>1009.4</td>\n",
       "      <td>0.0</td>\n",
       "      <td>0.0</td>\n",
       "      <td>23.6</td>\n",
       "      <td>25.2</td>\n",
       "      <td>No</td>\n",
       "    </tr>\n",
       "    <tr>\n",
       "      <th>40990</th>\n",
       "      <td>14.3</td>\n",
       "      <td>19.9</td>\n",
       "      <td>2.3</td>\n",
       "      <td>10.5</td>\n",
       "      <td>0.1</td>\n",
       "      <td>E</td>\n",
       "      <td>48.0</td>\n",
       "      <td>E</td>\n",
       "      <td>E</td>\n",
       "      <td>13.0</td>\n",
       "      <td>20.0</td>\n",
       "      <td>70.0</td>\n",
       "      <td>70.0</td>\n",
       "      <td>1007.6</td>\n",
       "      <td>1006.4</td>\n",
       "      <td>7.0</td>\n",
       "      <td>8.0</td>\n",
       "      <td>17.8</td>\n",
       "      <td>18.9</td>\n",
       "      <td>Yes</td>\n",
       "    </tr>\n",
       "  </tbody>\n",
       "</table>\n",
       "</div>"
      ],
      "text/plain": [
       "       MinTemp  MaxTemp  Rainfall  Evaporation  Sunshine WindGustDir  \\\n",
       "29970      8.1     22.3       0.0          3.8      10.6           E   \n",
       "41863     20.7     37.6       0.0         15.6      13.5          SW   \n",
       "18879     11.8     21.7       0.2          3.8      12.0           S   \n",
       "47968     14.5     28.2       0.0          9.6      13.9           S   \n",
       "40990     14.3     19.9       2.3         10.5       0.1           E   \n",
       "\n",
       "       WindGustSpeed WindDir9am WindDir3pm  WindSpeed9am  WindSpeed3pm  \\\n",
       "29970           17.0         SW          E           7.0           9.0   \n",
       "41863           50.0          N          W          13.0          31.0   \n",
       "18879           44.0          S          S          13.0          26.0   \n",
       "47968           30.0          S         SW          11.0          19.0   \n",
       "40990           48.0          E          E          13.0          20.0   \n",
       "\n",
       "       Humidity9am  Humidity3pm  Pressure9am  Pressure3pm  Cloud9am  Cloud3pm  \\\n",
       "29970         46.0         42.0       1023.0       1019.2       0.0       1.0   \n",
       "41863         18.0          7.0       1012.1       1009.2       0.0       1.0   \n",
       "18879         68.0         42.0       1014.8       1012.8       7.0       1.0   \n",
       "47968         58.0         46.0       1011.4       1009.4       0.0       0.0   \n",
       "40990         70.0         70.0       1007.6       1006.4       7.0       8.0   \n",
       "\n",
       "       Temp9am  Temp3pm RainToday  \n",
       "29970     15.2     21.5        No  \n",
       "41863     30.7     36.8        No  \n",
       "18879     15.0     21.2        No  \n",
       "47968     23.6     25.2        No  \n",
       "40990     17.8     18.9       Yes  "
      ]
     },
     "execution_count": 27,
     "metadata": {},
     "output_type": "execute_result"
    }
   ],
   "source": [
    "X = df_sample.drop('RainTomorrow', axis = 1).copy()\n",
    "X.head()"
   ]
  },
  {
   "cell_type": "code",
   "execution_count": 28,
   "id": "violent-account",
   "metadata": {},
   "outputs": [
    {
     "data": {
      "text/plain": [
       "29970    0\n",
       "41863    0\n",
       "18879    0\n",
       "47968    0\n",
       "40990    0\n",
       "Name: RainTomorrow, dtype: int64"
      ]
     },
     "execution_count": 28,
     "metadata": {},
     "output_type": "execute_result"
    }
   ],
   "source": [
    "y = df_sample['RainTomorrow'].copy()\n",
    "y.head()"
   ]
  },
  {
   "cell_type": "code",
   "execution_count": 29,
   "id": "cordless-booking",
   "metadata": {},
   "outputs": [
    {
     "data": {
      "text/html": [
       "<div>\n",
       "<style scoped>\n",
       "    .dataframe tbody tr th:only-of-type {\n",
       "        vertical-align: middle;\n",
       "    }\n",
       "\n",
       "    .dataframe tbody tr th {\n",
       "        vertical-align: top;\n",
       "    }\n",
       "\n",
       "    .dataframe thead th {\n",
       "        text-align: right;\n",
       "    }\n",
       "</style>\n",
       "<table border=\"1\" class=\"dataframe\">\n",
       "  <thead>\n",
       "    <tr style=\"text-align: right;\">\n",
       "      <th></th>\n",
       "      <th>MinTemp</th>\n",
       "      <th>MaxTemp</th>\n",
       "      <th>Rainfall</th>\n",
       "      <th>Evaporation</th>\n",
       "      <th>Sunshine</th>\n",
       "      <th>WindGustSpeed</th>\n",
       "      <th>WindSpeed9am</th>\n",
       "      <th>WindSpeed3pm</th>\n",
       "      <th>Humidity9am</th>\n",
       "      <th>Humidity3pm</th>\n",
       "      <th>...</th>\n",
       "      <th>WindGustDir_E</th>\n",
       "      <th>WindGustDir_N</th>\n",
       "      <th>WindGustDir_NE</th>\n",
       "      <th>WindGustDir_NW</th>\n",
       "      <th>WindGustDir_S</th>\n",
       "      <th>WindGustDir_SE</th>\n",
       "      <th>WindGustDir_SW</th>\n",
       "      <th>WindGustDir_W</th>\n",
       "      <th>RainToday_No</th>\n",
       "      <th>RainToday_Yes</th>\n",
       "    </tr>\n",
       "  </thead>\n",
       "  <tbody>\n",
       "    <tr>\n",
       "      <th>29970</th>\n",
       "      <td>8.1</td>\n",
       "      <td>22.3</td>\n",
       "      <td>0.0</td>\n",
       "      <td>3.8</td>\n",
       "      <td>10.6</td>\n",
       "      <td>17.0</td>\n",
       "      <td>7.0</td>\n",
       "      <td>9.0</td>\n",
       "      <td>46.0</td>\n",
       "      <td>42.0</td>\n",
       "      <td>...</td>\n",
       "      <td>1</td>\n",
       "      <td>0</td>\n",
       "      <td>0</td>\n",
       "      <td>0</td>\n",
       "      <td>0</td>\n",
       "      <td>0</td>\n",
       "      <td>0</td>\n",
       "      <td>0</td>\n",
       "      <td>1</td>\n",
       "      <td>0</td>\n",
       "    </tr>\n",
       "    <tr>\n",
       "      <th>41863</th>\n",
       "      <td>20.7</td>\n",
       "      <td>37.6</td>\n",
       "      <td>0.0</td>\n",
       "      <td>15.6</td>\n",
       "      <td>13.5</td>\n",
       "      <td>50.0</td>\n",
       "      <td>13.0</td>\n",
       "      <td>31.0</td>\n",
       "      <td>18.0</td>\n",
       "      <td>7.0</td>\n",
       "      <td>...</td>\n",
       "      <td>0</td>\n",
       "      <td>0</td>\n",
       "      <td>0</td>\n",
       "      <td>0</td>\n",
       "      <td>0</td>\n",
       "      <td>0</td>\n",
       "      <td>1</td>\n",
       "      <td>0</td>\n",
       "      <td>1</td>\n",
       "      <td>0</td>\n",
       "    </tr>\n",
       "    <tr>\n",
       "      <th>18879</th>\n",
       "      <td>11.8</td>\n",
       "      <td>21.7</td>\n",
       "      <td>0.2</td>\n",
       "      <td>3.8</td>\n",
       "      <td>12.0</td>\n",
       "      <td>44.0</td>\n",
       "      <td>13.0</td>\n",
       "      <td>26.0</td>\n",
       "      <td>68.0</td>\n",
       "      <td>42.0</td>\n",
       "      <td>...</td>\n",
       "      <td>0</td>\n",
       "      <td>0</td>\n",
       "      <td>0</td>\n",
       "      <td>0</td>\n",
       "      <td>1</td>\n",
       "      <td>0</td>\n",
       "      <td>0</td>\n",
       "      <td>0</td>\n",
       "      <td>1</td>\n",
       "      <td>0</td>\n",
       "    </tr>\n",
       "    <tr>\n",
       "      <th>47968</th>\n",
       "      <td>14.5</td>\n",
       "      <td>28.2</td>\n",
       "      <td>0.0</td>\n",
       "      <td>9.6</td>\n",
       "      <td>13.9</td>\n",
       "      <td>30.0</td>\n",
       "      <td>11.0</td>\n",
       "      <td>19.0</td>\n",
       "      <td>58.0</td>\n",
       "      <td>46.0</td>\n",
       "      <td>...</td>\n",
       "      <td>0</td>\n",
       "      <td>0</td>\n",
       "      <td>0</td>\n",
       "      <td>0</td>\n",
       "      <td>1</td>\n",
       "      <td>0</td>\n",
       "      <td>0</td>\n",
       "      <td>0</td>\n",
       "      <td>1</td>\n",
       "      <td>0</td>\n",
       "    </tr>\n",
       "    <tr>\n",
       "      <th>40990</th>\n",
       "      <td>14.3</td>\n",
       "      <td>19.9</td>\n",
       "      <td>2.3</td>\n",
       "      <td>10.5</td>\n",
       "      <td>0.1</td>\n",
       "      <td>48.0</td>\n",
       "      <td>13.0</td>\n",
       "      <td>20.0</td>\n",
       "      <td>70.0</td>\n",
       "      <td>70.0</td>\n",
       "      <td>...</td>\n",
       "      <td>1</td>\n",
       "      <td>0</td>\n",
       "      <td>0</td>\n",
       "      <td>0</td>\n",
       "      <td>0</td>\n",
       "      <td>0</td>\n",
       "      <td>0</td>\n",
       "      <td>0</td>\n",
       "      <td>0</td>\n",
       "      <td>1</td>\n",
       "    </tr>\n",
       "  </tbody>\n",
       "</table>\n",
       "<p>5 rows × 42 columns</p>\n",
       "</div>"
      ],
      "text/plain": [
       "       MinTemp  MaxTemp  Rainfall  Evaporation  Sunshine  WindGustSpeed  \\\n",
       "29970      8.1     22.3       0.0          3.8      10.6           17.0   \n",
       "41863     20.7     37.6       0.0         15.6      13.5           50.0   \n",
       "18879     11.8     21.7       0.2          3.8      12.0           44.0   \n",
       "47968     14.5     28.2       0.0          9.6      13.9           30.0   \n",
       "40990     14.3     19.9       2.3         10.5       0.1           48.0   \n",
       "\n",
       "       WindSpeed9am  WindSpeed3pm  Humidity9am  Humidity3pm  ...  \\\n",
       "29970           7.0           9.0         46.0         42.0  ...   \n",
       "41863          13.0          31.0         18.0          7.0  ...   \n",
       "18879          13.0          26.0         68.0         42.0  ...   \n",
       "47968          11.0          19.0         58.0         46.0  ...   \n",
       "40990          13.0          20.0         70.0         70.0  ...   \n",
       "\n",
       "       WindGustDir_E  WindGustDir_N  WindGustDir_NE  WindGustDir_NW  \\\n",
       "29970              1              0               0               0   \n",
       "41863              0              0               0               0   \n",
       "18879              0              0               0               0   \n",
       "47968              0              0               0               0   \n",
       "40990              1              0               0               0   \n",
       "\n",
       "       WindGustDir_S  WindGustDir_SE  WindGustDir_SW  WindGustDir_W  \\\n",
       "29970              0               0               0              0   \n",
       "41863              0               0               1              0   \n",
       "18879              1               0               0              0   \n",
       "47968              1               0               0              0   \n",
       "40990              0               0               0              0   \n",
       "\n",
       "       RainToday_No  RainToday_Yes  \n",
       "29970             1              0  \n",
       "41863             1              0  \n",
       "18879             1              0  \n",
       "47968             1              0  \n",
       "40990             0              1  \n",
       "\n",
       "[5 rows x 42 columns]"
      ]
     },
     "execution_count": 29,
     "metadata": {},
     "output_type": "execute_result"
    }
   ],
   "source": [
    "X_encoded = pd.get_dummies(X, columns = ['WindDir9am', 'WindDir3pm', 'WindGustDir', 'RainToday'])\n",
    "\n",
    "X_encoded.head()"
   ]
  },
  {
   "cell_type": "code",
   "execution_count": null,
   "id": "circular-identification",
   "metadata": {},
   "outputs": [],
   "source": []
  },
  {
   "cell_type": "code",
   "execution_count": 30,
   "id": "stopped-debut",
   "metadata": {},
   "outputs": [],
   "source": [
    "X_train,X_test, y_train,y_test = train_test_split(X_encoded, y,random_state=42)"
   ]
  },
  {
   "cell_type": "code",
   "execution_count": 31,
   "id": "decimal-indonesian",
   "metadata": {},
   "outputs": [],
   "source": [
    "X_scaler = StandardScaler().fit(X_train)\n",
    "# y_scaler = StandardScaler().fit(y_train)\n",
    "\n",
    "X_train_scaled = X_scaler.transform(X_train)\n",
    "X_test_scaled = X_scaler.transform(X_test)"
   ]
  },
  {
   "cell_type": "code",
   "execution_count": 32,
   "id": "curious-nancy",
   "metadata": {},
   "outputs": [
    {
     "data": {
      "text/plain": [
       "SVC(random_state=42)"
      ]
     },
     "execution_count": 32,
     "metadata": {},
     "output_type": "execute_result"
    }
   ],
   "source": [
    "clf_svm = SVC(random_state=42)\n",
    "clf_svm.fit(X_train_scaled, y_train)"
   ]
  },
  {
   "cell_type": "code",
   "execution_count": 33,
   "id": "endangered-accused",
   "metadata": {},
   "outputs": [
    {
     "data": {
      "text/plain": [
       "<sklearn.metrics._plot.confusion_matrix.ConfusionMatrixDisplay at 0x7fae1041edd8>"
      ]
     },
     "execution_count": 33,
     "metadata": {},
     "output_type": "execute_result"
    },
    {
     "data": {
      "image/png": "[encoded data removed]",
      "text/plain": [
       "<Figure size 432x288 with 2 Axes>"
      ]
     },
     "metadata": {
      "needs_background": "light"
     },
     "output_type": "display_data"
    }
   ],
   "source": [
    "## Check Testing Data and Draw Confusion Matrix\n",
    "plot_confusion_matrix(clf_svm,X_test_scaled,y_test, \n",
    "                     values_format='d',\n",
    "                     display_labels=[\"Not Default\",\"Default\"])\n",
    "## 0.78"
   ]
  },
  {
   "cell_type": "code",
   "execution_count": null,
   "id": "narrow-effects",
   "metadata": {},
   "outputs": [],
   "source": []
  },
  {
   "cell_type": "code",
   "execution_count": 34,
   "id": "tender-invitation",
   "metadata": {},
   "outputs": [
    {
     "name": "stdout",
     "output_type": "stream",
     "text": [
      "{'C': 100, 'gamma': 0.0001, 'kernel': 'rbf'}\n"
     ]
    }
   ],
   "source": [
    "param_grid = [\n",
    "    {'C': [0.5,1, 10, 100], # Note: values for C must > 0\n",
    "    'gamma': ['scale',1, 0.1, 0.01, 0.001, 0.0001],\n",
    "    'kernel': ['rbf']},\n",
    "]\n",
    "\n",
    "## NOTE: we are including C=1 and gamma= 'scale' as possible choices \n",
    "## since they are default values\n",
    "\n",
    "optimal_params = GridSearchCV(\n",
    "    SVC(),\n",
    "    param_grid, cv=5,\n",
    "    scoring='accuracy',\n",
    "    verbose=0 # if you want to see hat grid search is doing, set to 2\n",
    ")\n",
    "\n",
    "optimal_params.fit(X_train_scaled, y_train)\n",
    "print(optimal_params.best_params_)"
   ]
  },
  {
   "cell_type": "code",
   "execution_count": 35,
   "id": "preceding-album",
   "metadata": {},
   "outputs": [
    {
     "data": {
      "text/plain": [
       "SVC(C=100, gamma=0.0001, random_state=42)"
      ]
     },
     "execution_count": 35,
     "metadata": {},
     "output_type": "execute_result"
    }
   ],
   "source": [
    "clf_svm = SVC(random_state=42, C=100,gamma=0.0001)\n",
    "clf_svm.fit(X_train_scaled,y_train)"
   ]
  },
  {
   "cell_type": "code",
   "execution_count": 36,
   "id": "ambient-sleeping",
   "metadata": {},
   "outputs": [
    {
     "data": {
      "text/plain": [
       "<sklearn.metrics._plot.confusion_matrix.ConfusionMatrixDisplay at 0x7fadf8590f98>"
      ]
     },
     "execution_count": 36,
     "metadata": {},
     "output_type": "execute_result"
    },
    {
     "data": {
      "image/png": "[encoded data removed]",
      "text/plain": [
       "<Figure size 432x288 with 2 Axes>"
      ]
     },
     "metadata": {
      "needs_background": "light"
     },
     "output_type": "display_data"
    }
   ],
   "source": [
    "plot_confusion_matrix(clf_svm,X_test_scaled,y_test, \n",
    "                     values_format='d',\n",
    "                     display_labels=[\"Not Default\",\"Default\"])"
   ]
  },
  {
   "cell_type": "code",
   "execution_count": 37,
   "id": "crazy-translation",
   "metadata": {},
   "outputs": [
    {
     "data": {
      "text/plain": [
       "21"
      ]
     },
     "execution_count": 37,
     "metadata": {},
     "output_type": "execute_result"
    }
   ],
   "source": [
    "len(df_sample.columns) ## 24"
   ]
  },
  {
   "cell_type": "code",
   "execution_count": null,
   "id": "behind-istanbul",
   "metadata": {},
   "outputs": [],
   "source": []
  },
  {
   "cell_type": "code",
   "execution_count": 38,
   "id": "tested-disabled",
   "metadata": {},
   "outputs": [
    {
     "data": {
      "image/png": "[encoded data removed]",
      "text/plain": [
       "<Figure size 432x288 with 1 Axes>"
      ]
     },
     "metadata": {
      "needs_background": "light"
     },
     "output_type": "display_data"
    }
   ],
   "source": [
    "pca = PCA() # NOTE: by default, PCA centers the data, but not scale it. \n",
    "X_train_pca = pca.fit_transform(X_train_scaled)\n",
    "\n",
    "per_var = np.round(pca.explained_variance_ratio_*100, decimals=1)\n",
    "labels = [str(x) for x in range(1,len(per_var) + 1)]\n",
    "\n",
    "plt.bar(x=range(1,len(per_var) + 1), height=per_var)\n",
    "plt.tick_params(\n",
    "    axis='x',          # changes apply to the x-axis\n",
    "    which='both',      # both major and minor ticks are affected\n",
    "    bottom=False,      # ticks along the bottom are off\n",
    "    top=False,         # ticks along the top edge are off\n",
    "    labelbottom=False) # labels along the bottom edge are off\n",
    "plt.ylabel('Percent of Explained Variance')\n",
    "plt.xlabel('Principal Components')\n",
    "plt.title('Scree Plot')\n",
    "plt.show()"
   ]
  },
  {
   "cell_type": "code",
   "execution_count": 40,
   "id": "spiritual-gambling",
   "metadata": {},
   "outputs": [
    {
     "name": "stdout",
     "output_type": "stream",
     "text": [
      "{'C': 10, 'gamma': 1, 'kernel': 'rbf'}\n"
     ]
    }
   ],
   "source": [
    "train_pc1_coords = X_train_pca[:,0]\n",
    "train_pc2_coords = X_train_pca[:,1]\n",
    "\n",
    "## NOTE: \n",
    "## pc1 contains the x-axis coordinates of the data after PCA\n",
    "## pc2 contains the y-axis coordinates of the data after PCA\n",
    "\n",
    "## NOW center and scale the PCs\n",
    "pca_train_scaled = scale(np.column_stack((train_pc1_coords, train_pc2_coords)))\n",
    "\n",
    "## Now we optimze the SVM fit to the x and y-axis coordinates\n",
    "## of the data after PCA dimension reduction..\n",
    "param_grid2 = [\n",
    "    {'C': [1,10,100,1000],\n",
    "     'gamma':['scale',1,0.1,0.01,0.001,0.0001],\n",
    "     'kernel':['rbf']\n",
    "    },\n",
    "]\n",
    "\n",
    "optimal_params2 = GridSearchCV(\n",
    "        SVC(),\n",
    "        param_grid,\n",
    "        cv=5,\n",
    "        scoring='accuracy',\n",
    "        verbose=0\n",
    ")\n",
    "\n",
    "optimal_params.fit(pca_train_scaled, y_train)\n",
    "print(optimal_params.best_params_)"
   ]
  },
  {
   "cell_type": "code",
   "execution_count": 41,
   "id": "dietary-pharmacology",
   "metadata": {},
   "outputs": [
    {
     "data": {
      "text/plain": [
       "<sklearn.metrics._plot.confusion_matrix.ConfusionMatrixDisplay at 0x7fadf2bde550>"
      ]
     },
     "execution_count": 41,
     "metadata": {},
     "output_type": "execute_result"
    },
    {
     "data": {
      "image/png": "[encoded data removed]",
      "text/plain": [
       "<Figure size 432x288 with 2 Axes>"
      ]
     },
     "metadata": {
      "needs_background": "light"
     },
     "output_type": "display_data"
    }
   ],
   "source": [
    "clf_svm = SVC(random_state=42, C=10,gamma=1)\n",
    "clf_svm.fit(X_train_scaled,y_train)\n",
    "\n",
    "## Check Testing Data and Draw Confusion Matrix\n",
    "plot_confusion_matrix(clf_svm,X_test_scaled,y_test, \n",
    "                     values_format='d',\n",
    "                     display_labels=[\"Not Default\",\"Default\"])"
   ]
  },
  {
   "cell_type": "code",
   "execution_count": null,
   "id": "technical-diabetes",
   "metadata": {},
   "outputs": [],
   "source": []
  },
  {
   "cell_type": "code",
   "execution_count": null,
   "id": "particular-composer",
   "metadata": {},
   "outputs": [],
   "source": []
  }
 ],
 "metadata": {
  "kernelspec": {
   "display_name": "Python [conda env:Pythonadv]",
   "language": "python",
   "name": "conda-env-Pythonadv-py"
  },
  "language_info": {
   "codemirror_mode": {
    "name": "ipython",
    "version": 3
   },
   "file_extension": ".py",
   "mimetype": "text/x-python",
   "name": "python",
   "nbconvert_exporter": "python",
   "pygments_lexer": "ipython3",
   "version": "3.6.12"
  }
 },
 "nbformat": 4,
 "nbformat_minor": 5
}
